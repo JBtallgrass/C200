{
 "cells": [
  {
   "cell_type": "code",
   "execution_count": null,
   "metadata": {},
   "outputs": [],
   "source": [
    "# Import dependencies\n",
    "import matplotlib.pyplot as plt\n",
    "import pandas as pd\n",
    "import os\n",
    "import seaborn as sns\n",
    "from scipy import stats\n",
    "import numpy as np\n",
    "# from sklearn.model_selection import train_test_split\n",
    "# from sklearn.linear_model import LinearRegression\n",
    "# from sklearn import metrics\n",
    "# from sklearn.linear_model import ElasticNet, Lasso, Ridge\n",
    "# from sklearn.model_selection import KFold, cross_val_score \n",
    "# import statsmodels.api as sm"
   ]
  },
  {
   "cell_type": "markdown",
   "metadata": {},
   "source": [
    "## Read in the multiple .csv files"
   ]
  },
  {
   "cell_type": "code",
   "execution_count": null,
   "metadata": {},
   "outputs": [],
   "source": [
    "# read in mulitple csv files\n",
    "csv_files = ['data/C200_SEC01.csv',\n",
    "             'data/C200_SEC02.csv',\n",
    "             'data/C200_SEC04.csv',\n",
    "             'data/C200_SEC05.csv',\n",
    "             'data/C200_SEC06.csv',\n",
    "             'data/C200_SEC07.csv',\n",
    "             'data/C200_SEC08.csv',\n",
    "             'data/C200_SEC09.csv',\n",
    "             'data/C200_SEC10.csv',\n",
    "             'data/C200_SEC11.csv', \n",
    "             'data/C200_SEC12.csv', \n",
    "             'data/C200_SEC13.csv', \n",
    "             'data/C200_SEC14.csv', \n",
    "             'data/C200_SEC15.csv',\n",
    "             'data/C200_SEC16.csv',\n",
    "             'data/C200_SEC17.csv',\n",
    "             'data/C200_SEC18.csv',\n",
    "             'data/C200_SEC19.csv'\n",
    "            ]\n",
    "\n",
    "# Initialize an empty list to store DataFrames\n",
    "dataframes = []\n",
    "\n",
    "# Read the first CSV file to get the column headers\n",
    "initial_df = pd.read_csv(csv_files[0])\n",
    "initial_columns = initial_df.columns\n",
    "\n",
    "# Loop through the list of files\n",
    "for file in csv_files:\n",
    "    # Read the current CSV file into a DataFrame, ensuring it matches the initial columns\n",
    "    df = pd.read_csv(file, usecols=lambda column: column in initial_columns).reindex(columns=initial_columns)\n",
    "       \n",
    "    # Drop rows where all cells are blank\n",
    "    df.dropna(how='all', inplace=True)\n",
    "    \n",
    "    # Append the DataFrame to the list\n",
    "    dataframes.append(df)\n",
    "\n",
    "# Concatenate all DataFrames in the list into a single DataFrame\n",
    "c200_df = pd.concat(dataframes, ignore_index=True)\n",
    "\n",
    "# Remove the personal data (first and last names) and replace with a key\n",
    "# Add a unique key index to each student\n",
    "c200_df['student_key'] = range(1, len(c200_df) + 1)\n",
    "\n",
    "# Save the compiled DataFrame\n",
    "c200_df.to_csv('data/c200_compiled_dataframe.csv', index=False)"
   ]
  },
  {
   "cell_type": "markdown",
   "metadata": {},
   "source": [
    "## Begin cleaning data frame for descriptive analysis"
   ]
  },
  {
   "cell_type": "code",
   "execution_count": null,
   "metadata": {},
   "outputs": [],
   "source": [
    "# Listing all column names in the DataFrame\n",
    "column_names = c200_df.columns.tolist()\n",
    "print(column_names)"
   ]
  },
  {
   "cell_type": "code",
   "execution_count": null,
   "metadata": {},
   "outputs": [],
   "source": [
    "# Assuming you want to keep columns named \n",
    "c200_df = c200_df[['student key',\n",
    "                   'Learner ID',\n",
    "                   'Weighted Total',\n",
    "                   'Total pts',\n",
    "                   'C200P1 CTGL 1',\n",
    "                   'C200P2 CTGL 2',\n",
    "                   'C200A1 Test 2 Essay',\n",
    "                   'C200B1 Test 1 US Students',\n",
    "                   'C200B1 Test 1 IMS Students',]]\n",
    "# new df\n",
    "c200_df.to_csv('data/c200_df_modified.csv', index=False)"
   ]
  },
  {
   "cell_type": "code",
   "execution_count": null,
   "metadata": {},
   "outputs": [],
   "source": [
    "# Define a new list of column names\n",
    "new_column_names = ['key',\n",
    "                   'SG',\n",
    "                   'Wt_total', \n",
    "                   'Total_pts',\n",
    "                   'CTGL_1',\n",
    "                   'CTGL_2',\n",
    "                   'Essay',\n",
    "                   'BB_exam_us',\n",
    "                   'BB_exam_ims',\n",
    "                   ] # Continue this list to match the number of columns in DataFrame\n",
    "\n",
    "# Assign the new column names to the DataFrame\n",
    "c200_df.columns = new_column_names"
   ]
  },
  {
   "cell_type": "code",
   "execution_count": null,
   "metadata": {},
   "outputs": [],
   "source": [
    "# Listing all column names in the DataFrame\n",
    "column_names = c200_df.columns.tolist()\n",
    "print(column_names)"
   ]
  },
  {
   "cell_type": "code",
   "execution_count": null,
   "metadata": {},
   "outputs": [],
   "source": [
    "# Assuming column 12 is '' for US and column 12 is 'M200B1 BB_exam_ims' for international\n",
    "# This will create a new column 'Combined_Scores' which has all scores, prioritizing US scores and filling in missing values with International scores.\n",
    "c200_df['Combined_Scores'] = c200_df['BB_exam_us'].combine_first(c200_df['M200B1 BB_exam_ims'])\n",
    "\n",
    "# Save the updated DataFrame\n",
    "m200_df.to_csv('data/m200_compiled_dataframe_scores_combined.csv', index=False)"
   ]
  },
  {
   "cell_type": "code",
   "execution_count": null,
   "metadata": {},
   "outputs": [],
   "source": [
    "c200_df.head()"
   ]
  },
  {
   "cell_type": "code",
   "execution_count": null,
   "metadata": {},
   "outputs": [],
   "source": [
    "c200_df.tail"
   ]
  }
 ],
 "metadata": {
  "language_info": {
   "name": "python"
  }
 },
 "nbformat": 4,
 "nbformat_minor": 2
}
